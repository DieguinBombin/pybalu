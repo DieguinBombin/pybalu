{
 "cells": [
  {
   "cell_type": "code",
   "execution_count": 5,
   "metadata": {},
   "outputs": [],
   "source": [
    "from pybalu.feature_extraction import haralick\n",
    "from pybalu.misc import imread\n",
    "from pybalu.IO import print_features"
   ]
  },
  {
   "cell_type": "code",
   "execution_count": 11,
   "metadata": {},
   "outputs": [
    {
     "name": "stdout",
     "output_type": "stream",
     "text": [
      "Tx 1 , d 12 (mean) :  0.51884\n",
      "Tx 2 , d 12 (mean) :  11.60723\n",
      "Tx 3 , d 12 (mean) :  71.18876\n",
      "Tx 4 , d 12 (mean) :  11.60723\n",
      "Tx 5 , d 12 (mean) :  0.76786\n",
      "Tx 6 , d 12 (mean) :  4.58603\n",
      "Tx 7 , d 12 (mean) :  3.81674\n",
      "Tx 8 , d 12 (mean) :  0.76929\n",
      "Tx 9 , d 12 (mean) :  0.93348\n",
      "Tx 10, d 12 (mean) :  0.07357\n",
      "Tx 11, d 12 (mean) :  0.54530\n",
      "Tx 12, d 12 (mean) : -0.04880\n",
      "Tx 13, d 12 (mean) :  0.04517\n",
      "Tx 14, d 12 (mean) :  0.88050\n",
      "Tx 1 , d 12 (range):  0.53356\n",
      "Tx 2 , d 12 (range):  13.34953\n",
      "Tx 3 , d 12 (range):  84.44480\n",
      "Tx 4 , d 12 (range):  13.34953\n",
      "Tx 5 , d 12 (range):  0.79920\n",
      "Tx 6 , d 12 (range):  4.64069\n",
      "Tx 7 , d 12 (range):  3.86076\n",
      "Tx 8 , d 12 (range):  0.77993\n",
      "Tx 9 , d 12 (range):  0.95650\n",
      "Tx 10, d 12 (range):  0.07845\n",
      "Tx 11, d 12 (range):  0.58567\n",
      "Tx 12, d 12 (range):  0.09600\n",
      "Tx 13, d 12 (range):  0.08878\n",
      "Tx 14, d 12 (range):  0.88474\n"
     ]
    }
   ],
   "source": [
    "img = imread('logo-top.png') @ [0.299, 0.587, 0.114, 0]\n",
    "labels, features = haralick(img, distance=12, labels=True)\n",
    "print_features(labels, features)"
   ]
  },
  {
   "cell_type": "code",
   "execution_count": 12,
   "metadata": {},
   "outputs": [],
   "source": [
    "haralick()"
   ]
  },
  {
   "cell_type": "code",
   "execution_count": null,
   "metadata": {},
   "outputs": [],
   "source": []
  }
 ],
 "metadata": {
  "kernelspec": {
   "display_name": "Python 3",
   "language": "python",
   "name": "python3"
  },
  "language_info": {
   "codemirror_mode": {
    "name": "ipython",
    "version": 3
   },
   "file_extension": ".py",
   "mimetype": "text/x-python",
   "name": "python",
   "nbconvert_exporter": "python",
   "pygments_lexer": "ipython3",
   "version": "3.7.0"
  }
 },
 "nbformat": 4,
 "nbformat_minor": 2
}

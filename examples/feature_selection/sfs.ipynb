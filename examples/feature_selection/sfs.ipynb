{
 "cells": [
  {
   "cell_type": "code",
   "execution_count": 1,
   "metadata": {},
   "outputs": [
    {
     "name": "stdout",
     "output_type": "stream",
     "text": [
      "/Users/mabucchi/com.github/pybalu/examples\n"
     ]
    }
   ],
   "source": [
    "%matplotlib inline"
   ]
  },
  {
   "cell_type": "code",
   "execution_count": 2,
   "metadata": {},
   "outputs": [],
   "source": [
    "from scipy.io import loadmat\n",
    "\n",
    "# load a dataset with 810 samples and 294 features\n",
    "data = loadmat(\"feature_selection/realdata\")\n",
    "features = data[\"features\"]\n",
    "classes = data[\"classes\"].squeeze()\n"
   ]
  },
  {
   "cell_type": "code",
   "execution_count": 3,
   "metadata": {},
   "outputs": [],
   "source": [
    "from pybalu.data_selection import stratify\n",
    "from pybalu.feature_transformation import normalize\n",
    "\n",
    "# Training and Testing data (90% training, 10% testing)\n",
    "idx_train, idx_test = stratify(classes, .90)\n",
    "f_train = features[idx_train]\n",
    "c_train = classes[idx_train]\n",
    "f_test = features[idx_test]\n",
    "c_test = classes[idx_test]\n",
    "\n",
    "f_train_norm, a, b = normalize(f_train)\n",
    "f_test_norm = f_test * a + b\n"
   ]
  },
  {
   "cell_type": "code",
   "execution_count": 4,
   "metadata": {},
   "outputs": [
    {
     "name": "stderr",
     "output_type": "stream",
     "text": [
      "Selecting Features: 100%|██████████| 15.0/15.0 [00:01<00:00, 7.57 features/s]\n"
     ]
    }
   ],
   "source": [
    "from pybalu.feature_selection import sfs\n",
    "\n",
    "N_FEATURES = 15\n",
    "\n",
    "selected_feats = sfs(f_train_norm, c_train, n_features=N_FEATURES,\n",
    "                     method=\"fisher\", show=True)\n",
    "\n"
   ]
  },
  {
   "cell_type": "code",
   "execution_count": 7,
   "metadata": {},
   "outputs": [
    {
     "data": {
      "image/png": "[encoded data removed]",
      "text/plain": [
       "<Figure size 432x288 with 1 Axes>"
      ]
     },
     "metadata": {},
     "output_type": "display_data"
    }
   ],
   "source": [
    "from pybalu.classification import structure\n",
    "from pybalu.performance_eval import performance\n",
    "from sklearn.neighbors import KNeighborsClassifier\n",
    "import matplotlib.pyplot as plt\n",
    "\n",
    "def performance_for_features(feat_idxs):\n",
    "    # train classifier\n",
    "    knn = KNeighborsClassifier(n_neighbors=3)\n",
    "    knn.fit(f_train_norm[:, feat_idxs], c_train)\n",
    "\n",
    "    # predict and evaluate performance\n",
    "    prediction = knn.predict(f_test_norm[:, feat_idxs])\n",
    "    return performance(prediction, c_test)\n",
    "\n",
    "\n",
    "values = [performance_for_features(selected_feats[:i]) * 100\n",
    "          for i in range(1, N_FEATURES + 1)]\n",
    "\n",
    "plt.plot(values)\n",
    "plt.title(\"Performance vs. number of features\")\n",
    "plt.xlabel('selected features')\n",
    "plt.ylabel('accuracy [%]')\n",
    "plt.show()\n"
   ]
  },
  {
   "cell_type": "code",
   "execution_count": 6,
   "metadata": {},
   "outputs": [],
   "source": []
  },
  {
   "cell_type": "code",
   "execution_count": null,
   "metadata": {},
   "outputs": [],
   "source": []
  }
 ],
 "metadata": {
  "file_extension": ".py",
  "kernelspec": {
   "display_name": "Python 3",
   "language": "python",
   "name": "python3"
  },
  "language_info": {
   "codemirror_mode": {
    "name": "ipython",
    "version": 3
   },
   "file_extension": ".py",
   "mimetype": "text/x-python",
   "name": "python",
   "nbconvert_exporter": "python",
   "pygments_lexer": "ipython3",
   "version": "3.7.2"
  },
  "mimetype": "text/x-python",
  "name": "python",
  "npconvert_exporter": "python",
  "pygments_lexer": "ipython3",
  "version": 3
 },
 "nbformat": 4,
 "nbformat_minor": 2
}
